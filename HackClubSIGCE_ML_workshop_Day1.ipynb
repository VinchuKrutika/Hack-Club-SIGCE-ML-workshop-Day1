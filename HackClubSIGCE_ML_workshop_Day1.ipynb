{
  "cells": [
    {
      "cell_type": "markdown",
      "source": [
        "# **Welcome to Machine Learning Workshop**"
      ],
      "metadata": {
        "id": "xbNfLKtct9VE"
      },
      "id": "xbNfLKtct9VE"
    },
    {
      "cell_type": "markdown",
      "id": "793df3fd",
      "metadata": {
        "id": "793df3fd"
      },
      "source": [
        "## String operations in python"
      ]
    },
    {
      "cell_type": "markdown",
      "id": "08181409",
      "metadata": {
        "id": "08181409"
      },
      "source": [
        "### 1.Slicing operation"
      ]
    },
    {
      "cell_type": "code",
      "execution_count": null,
      "id": "9ed7b4eb",
      "metadata": {
        "id": "9ed7b4eb"
      },
      "outputs": [],
      "source": [
        " A = \"Hack_Club_SIGCE\""
      ]
    },
    {
      "cell_type": "code",
      "execution_count": null,
      "id": "e295da99",
      "metadata": {
        "colab": {
          "base_uri": "https://localhost:8080/"
        },
        "id": "e295da99",
        "outputId": "8b14203f-517f-4b46-dc01-5780e2611e07"
      },
      "outputs": [
        {
          "output_type": "stream",
          "name": "stdout",
          "text": [
            "ck_Club\n"
          ]
        }
      ],
      "source": [
        "print(A[2:9])"
      ]
    },
    {
      "cell_type": "code",
      "execution_count": null,
      "id": "bbd7cb8c",
      "metadata": {
        "id": "bbd7cb8c"
      },
      "outputs": [],
      "source": [
        ""
      ]
    },
    {
      "cell_type": "markdown",
      "id": "80e960fe",
      "metadata": {
        "id": "80e960fe"
      },
      "source": [
        "### Slice From the Start"
      ]
    },
    {
      "cell_type": "code",
      "execution_count": null,
      "id": "3e48c2cc",
      "metadata": {
        "colab": {
          "base_uri": "https://localhost:8080/"
        },
        "id": "3e48c2cc",
        "outputId": "1dc2a76a-1ca6-4284-bd26-0fe0ea51b46e"
      },
      "outputs": [
        {
          "output_type": "stream",
          "name": "stdout",
          "text": [
            "Hack_Clu\n"
          ]
        }
      ],
      "source": [
        "print(A[:8])"
      ]
    },
    {
      "cell_type": "code",
      "execution_count": null,
      "id": "3cb43545",
      "metadata": {
        "id": "3cb43545"
      },
      "outputs": [],
      "source": [
        ""
      ]
    },
    {
      "cell_type": "markdown",
      "id": "34acf1c9",
      "metadata": {
        "id": "34acf1c9"
      },
      "source": [
        "### Slice From the End"
      ]
    },
    {
      "cell_type": "code",
      "execution_count": null,
      "id": "a506b45b",
      "metadata": {
        "colab": {
          "base_uri": "https://localhost:8080/"
        },
        "id": "a506b45b",
        "outputId": "f080aec9-1d34-40fc-945e-22cfd256047b"
      },
      "outputs": [
        {
          "output_type": "stream",
          "name": "stdout",
          "text": [
            "Club_SIGCE\n"
          ]
        }
      ],
      "source": [
        "print(A[5:])"
      ]
    },
    {
      "cell_type": "code",
      "execution_count": null,
      "id": "88da4181",
      "metadata": {
        "id": "88da4181"
      },
      "outputs": [],
      "source": [
        ""
      ]
    },
    {
      "cell_type": "markdown",
      "id": "95456116",
      "metadata": {
        "id": "95456116"
      },
      "source": [
        "### 2.Modify Strings"
      ]
    },
    {
      "cell_type": "markdown",
      "id": "68d86a72",
      "metadata": {
        "id": "68d86a72"
      },
      "source": [
        "### Upper Case"
      ]
    },
    {
      "cell_type": "code",
      "execution_count": null,
      "id": "249b62e0",
      "metadata": {
        "colab": {
          "base_uri": "https://localhost:8080/"
        },
        "id": "249b62e0",
        "outputId": "36cd562e-9566-4d94-ee28-d13dc4ce10c7"
      },
      "outputs": [
        {
          "output_type": "stream",
          "name": "stdout",
          "text": [
            "HACK_CLUB_SIGCE\n"
          ]
        }
      ],
      "source": [
        "print(A.upper())"
      ]
    },
    {
      "cell_type": "code",
      "execution_count": null,
      "id": "19f7e5da",
      "metadata": {
        "id": "19f7e5da"
      },
      "outputs": [],
      "source": [
        ""
      ]
    },
    {
      "cell_type": "markdown",
      "id": "2e5b5658",
      "metadata": {
        "id": "2e5b5658"
      },
      "source": [
        "### Lower Case"
      ]
    },
    {
      "cell_type": "code",
      "execution_count": null,
      "id": "8caeaa74",
      "metadata": {
        "colab": {
          "base_uri": "https://localhost:8080/"
        },
        "id": "8caeaa74",
        "outputId": "37ab40db-0888-445e-ba98-9853bd57f173"
      },
      "outputs": [
        {
          "output_type": "stream",
          "name": "stdout",
          "text": [
            "hack_club_sigce\n"
          ]
        }
      ],
      "source": [
        "print(A.lower())"
      ]
    },
    {
      "cell_type": "code",
      "execution_count": null,
      "id": "c29218e8",
      "metadata": {
        "id": "c29218e8"
      },
      "outputs": [],
      "source": [
        ""
      ]
    },
    {
      "cell_type": "markdown",
      "id": "ced3d02f",
      "metadata": {
        "id": "ced3d02f"
      },
      "source": [
        "### Replace String"
      ]
    },
    {
      "cell_type": "code",
      "execution_count": null,
      "id": "d715a686",
      "metadata": {
        "colab": {
          "base_uri": "https://localhost:8080/"
        },
        "id": "d715a686",
        "outputId": "27e5cf34-bd59-4b7b-f133-8b22c09af7f7"
      },
      "outputs": [
        {
          "output_type": "stream",
          "name": "stdout",
          "text": [
            "Hack-Club-SIGCE\n"
          ]
        }
      ],
      "source": [
        "print(A.replace(\"_\", \"-\"))"
      ]
    },
    {
      "cell_type": "code",
      "execution_count": null,
      "id": "2b0777cc",
      "metadata": {
        "id": "2b0777cc"
      },
      "outputs": [],
      "source": [
        ""
      ]
    },
    {
      "cell_type": "markdown",
      "id": "e5566a9a",
      "metadata": {
        "id": "e5566a9a"
      },
      "source": [
        "### 3.Concatinate Strings"
      ]
    },
    {
      "cell_type": "code",
      "execution_count": null,
      "id": "86ca3eac",
      "metadata": {
        "colab": {
          "base_uri": "https://localhost:8080/"
        },
        "id": "86ca3eac",
        "outputId": "9d3b6a6b-ca5c-4fca-b08d-bf3fb9647b71"
      },
      "outputs": [
        {
          "output_type": "stream",
          "name": "stdout",
          "text": [
            "KrutikaVinchu\n"
          ]
        }
      ],
      "source": [
        "a = \"Krutika\"\n",
        "b = \"Vinchu\"\n",
        "c = a + b\n",
        "print(c)"
      ]
    },
    {
      "cell_type": "code",
      "execution_count": null,
      "id": "490134f9",
      "metadata": {
        "id": "490134f9"
      },
      "outputs": [],
      "source": [
        ""
      ]
    },
    {
      "cell_type": "markdown",
      "id": "1f9bf8f0",
      "metadata": {
        "id": "1f9bf8f0"
      },
      "source": [
        "### 4.Format - Strings "
      ]
    },
    {
      "cell_type": "code",
      "execution_count": null,
      "id": "4f1d7a6c",
      "metadata": {
        "colab": {
          "base_uri": "https://localhost:8080/",
          "height": 201
        },
        "id": "4f1d7a6c",
        "outputId": "b77c45eb-8c45-458c-bdf6-e75605f737f5"
      },
      "outputs": [
        {
          "output_type": "error",
          "ename": "TypeError",
          "evalue": "ignored",
          "traceback": [
            "\u001b[0;31m---------------------------------------------------------------------------\u001b[0m",
            "\u001b[0;31mTypeError\u001b[0m                                 Traceback (most recent call last)",
            "\u001b[0;32m<ipython-input-11-4d1b227cff41>\u001b[0m in \u001b[0;36m<module>\u001b[0;34m()\u001b[0m\n\u001b[1;32m      1\u001b[0m \u001b[0mage\u001b[0m \u001b[0;34m=\u001b[0m \u001b[0;36m36\u001b[0m\u001b[0;34m\u001b[0m\u001b[0;34m\u001b[0m\u001b[0m\n\u001b[0;32m----> 2\u001b[0;31m \u001b[0mtxt\u001b[0m \u001b[0;34m=\u001b[0m \u001b[0;34m\"My name is John, I am \"\u001b[0m \u001b[0;34m+\u001b[0m \u001b[0mage\u001b[0m\u001b[0;34m\u001b[0m\u001b[0;34m\u001b[0m\u001b[0m\n\u001b[0m\u001b[1;32m      3\u001b[0m \u001b[0mprint\u001b[0m\u001b[0;34m(\u001b[0m\u001b[0mtxt\u001b[0m\u001b[0;34m)\u001b[0m\u001b[0;34m\u001b[0m\u001b[0;34m\u001b[0m\u001b[0m\n",
            "\u001b[0;31mTypeError\u001b[0m: can only concatenate str (not \"int\") to str"
          ]
        }
      ],
      "source": [
        "age = 36\n",
        "txt = \"My name is John, I am \" + age\n",
        "print(txt)"
      ]
    },
    {
      "cell_type": "code",
      "execution_count": null,
      "id": "982d5298",
      "metadata": {
        "colab": {
          "base_uri": "https://localhost:8080/"
        },
        "id": "982d5298",
        "outputId": "ac7f7d98-b7c1-4903-a476-b6d357b07e5d"
      },
      "outputs": [
        {
          "output_type": "stream",
          "name": "stdout",
          "text": [
            "My name is Krutika, and I am 20\n"
          ]
        }
      ],
      "source": [
        "age = 20\n",
        "txt = \"My name is Krutika, and I am {}\"\n",
        "print(txt.format(age))\n"
      ]
    },
    {
      "cell_type": "code",
      "execution_count": null,
      "id": "b08d017e",
      "metadata": {
        "colab": {
          "base_uri": "https://localhost:8080/"
        },
        "id": "b08d017e",
        "outputId": "e200b263-2dcf-44c9-abeb-c9ee4306706a"
      },
      "outputs": [
        {
          "output_type": "stream",
          "name": "stdout",
          "text": [
            "It is a 5 rd day session of  3 days with python workshop.\n"
          ]
        }
      ],
      "source": [
        "no_of_days = 5\n",
        "current_day = 3\n",
        "\n",
        "HackClubSIGCE = \"It is a {} rd day session of  {} days with python workshop.\"\n",
        "print(HackClubSIGCE.format( no_of_days , current_day))"
      ]
    },
    {
      "cell_type": "code",
      "execution_count": null,
      "id": "05ff3d6d",
      "metadata": {
        "id": "05ff3d6d"
      },
      "outputs": [],
      "source": [
        ""
      ]
    },
    {
      "cell_type": "code",
      "execution_count": null,
      "id": "9734a5c8",
      "metadata": {
        "id": "9734a5c8"
      },
      "outputs": [],
      "source": [
        ""
      ]
    },
    {
      "cell_type": "markdown",
      "id": "cea0e779",
      "metadata": {
        "id": "cea0e779"
      },
      "source": [
        "### Methods  "
      ]
    },
    {
      "cell_type": "markdown",
      "id": "d6d2149a",
      "metadata": {
        "id": "d6d2149a"
      },
      "source": [
        "### Count Method "
      ]
    },
    {
      "cell_type": "code",
      "execution_count": null,
      "id": "33385b17",
      "metadata": {
        "colab": {
          "base_uri": "https://localhost:8080/"
        },
        "id": "33385b17",
        "outputId": "77bf2852-5723-4dde-be93-e4068b51f594"
      },
      "outputs": [
        {
          "output_type": "stream",
          "name": "stdout",
          "text": [
            "4\n"
          ]
        }
      ],
      "source": [
        "txt = \"I am Krutika, and I am 20\"\n",
        "count1 = txt.count(\"a\")\n",
        "print(count1)"
      ]
    },
    {
      "cell_type": "code",
      "execution_count": null,
      "id": "bbfdacb3",
      "metadata": {
        "id": "bbfdacb3"
      },
      "outputs": [],
      "source": [
        ""
      ]
    },
    {
      "cell_type": "markdown",
      "id": "e391331e",
      "metadata": {
        "id": "e391331e"
      },
      "source": [
        "### Capitalize Method "
      ]
    },
    {
      "cell_type": "code",
      "execution_count": null,
      "id": "135cd2b9",
      "metadata": {
        "colab": {
          "base_uri": "https://localhost:8080/"
        },
        "id": "135cd2b9",
        "outputId": "b0a89bd3-7da3-495e-9e2c-76b1cacfb31f"
      },
      "outputs": [
        {
          "output_type": "stream",
          "name": "stdout",
          "text": [
            "Am krutika, and i am 20\n"
          ]
        }
      ],
      "source": [
        "txt = \"am krutika, and i am 20\"\n",
        "count2 = txt.capitalize()\n",
        "\n",
        "print (count2)\n"
      ]
    },
    {
      "cell_type": "code",
      "execution_count": null,
      "id": "6125f974",
      "metadata": {
        "id": "6125f974"
      },
      "outputs": [],
      "source": [
        ""
      ]
    },
    {
      "cell_type": "code",
      "source": [
        ""
      ],
      "metadata": {
        "id": "AbH7I9Y3yGoF"
      },
      "id": "AbH7I9Y3yGoF",
      "execution_count": null,
      "outputs": []
    },
    {
      "cell_type": "markdown",
      "source": [
        "## Python Lists"
      ],
      "metadata": {
        "id": "4CEOEnE3yJzu"
      },
      "id": "4CEOEnE3yJzu"
    },
    {
      "cell_type": "markdown",
      "source": [
        "### Create a List"
      ],
      "metadata": {
        "id": "ew44avH91_vL"
      },
      "id": "ew44avH91_vL"
    },
    {
      "cell_type": "code",
      "source": [
        "mylist = [\"Dikshita\", \"Ekta\", \"Krutika\"]\n",
        "print(mylist)"
      ],
      "metadata": {
        "colab": {
          "base_uri": "https://localhost:8080/"
        },
        "id": "UYwciMCeyNiu",
        "outputId": "ad7da0e1-9b82-420c-be34-3689228afd15"
      },
      "id": "UYwciMCeyNiu",
      "execution_count": null,
      "outputs": [
        {
          "output_type": "stream",
          "name": "stdout",
          "text": [
            "['Dikshita', 'Ekta', 'Krutika']\n"
          ]
        }
      ]
    },
    {
      "cell_type": "markdown",
      "source": [
        "### List Length"
      ],
      "metadata": {
        "id": "y0so1TbW2YhR"
      },
      "id": "y0so1TbW2YhR"
    },
    {
      "cell_type": "code",
      "source": [
        "print(len(mylist))\n"
      ],
      "metadata": {
        "colab": {
          "base_uri": "https://localhost:8080/"
        },
        "id": "cOl44tYvzf1D",
        "outputId": "048fb4e8-c2dd-4289-937d-61e914758ca8"
      },
      "id": "cOl44tYvzf1D",
      "execution_count": null,
      "outputs": [
        {
          "output_type": "stream",
          "name": "stdout",
          "text": [
            "3\n"
          ]
        }
      ]
    },
    {
      "cell_type": "markdown",
      "source": [
        "### 1.Access Items"
      ],
      "metadata": {
        "id": "6suaLmvq25FC"
      },
      "id": "6suaLmvq25FC"
    },
    {
      "cell_type": "code",
      "source": [
        "print(mylist[2])"
      ],
      "metadata": {
        "colab": {
          "base_uri": "https://localhost:8080/"
        },
        "id": "gY-0uL6d27r6",
        "outputId": "a5255f47-27dc-4d51-a505-0c6f847a68ff"
      },
      "id": "gY-0uL6d27r6",
      "execution_count": null,
      "outputs": [
        {
          "output_type": "stream",
          "name": "stdout",
          "text": [
            "Krutika\n"
          ]
        }
      ]
    },
    {
      "cell_type": "markdown",
      "source": [
        "### Negative Indexing "
      ],
      "metadata": {
        "id": "eGHShEPI3d0y"
      },
      "id": "eGHShEPI3d0y"
    },
    {
      "cell_type": "code",
      "source": [
        "print(mylist[-2])"
      ],
      "metadata": {
        "id": "yJ6iYMPx3fC6",
        "colab": {
          "base_uri": "https://localhost:8080/"
        },
        "outputId": "5b1c5a91-4176-4f72-a429-9040062e313e"
      },
      "id": "yJ6iYMPx3fC6",
      "execution_count": null,
      "outputs": [
        {
          "output_type": "stream",
          "name": "stdout",
          "text": [
            "Ekta\n"
          ]
        }
      ]
    },
    {
      "cell_type": "markdown",
      "source": [
        "### Range of Indexes"
      ],
      "metadata": {
        "id": "ghN3_64u3nJt"
      },
      "id": "ghN3_64u3nJt"
    },
    {
      "cell_type": "code",
      "source": [
        "print(mylist[0:2])"
      ],
      "metadata": {
        "id": "7KmUNQXt3p_9",
        "colab": {
          "base_uri": "https://localhost:8080/"
        },
        "outputId": "de3965f8-1961-430c-bba8-368433dae0fe"
      },
      "id": "7KmUNQXt3p_9",
      "execution_count": null,
      "outputs": [
        {
          "output_type": "stream",
          "name": "stdout",
          "text": [
            "['Dikshita', 'Ekta']\n"
          ]
        }
      ]
    },
    {
      "cell_type": "markdown",
      "source": [
        "### 2.Change Item Value"
      ],
      "metadata": {
        "id": "L5qyfn5L4n_O"
      },
      "id": "L5qyfn5L4n_O"
    },
    {
      "cell_type": "code",
      "source": [
        "mylist = [\"Dikshita\", \"Ekta\", \"Krutika\"]\n",
        "mylist[1] = \"Siddhi\"\n",
        "print(mylist)"
      ],
      "metadata": {
        "id": "LH25nxVY4VZh",
        "colab": {
          "base_uri": "https://localhost:8080/"
        },
        "outputId": "0e2c6f0d-14b0-46d8-860b-7dc989eb5333"
      },
      "id": "LH25nxVY4VZh",
      "execution_count": null,
      "outputs": [
        {
          "output_type": "stream",
          "name": "stdout",
          "text": [
            "['Dikshita', 'Siddhi', 'Krutika']\n"
          ]
        }
      ]
    },
    {
      "cell_type": "markdown",
      "source": [
        "### 3.Add List Items¶"
      ],
      "metadata": {
        "id": "9lwPsyk046ti"
      },
      "id": "9lwPsyk046ti"
    },
    {
      "cell_type": "code",
      "source": [
        "mylist.append(\"Ekta\")\n",
        "print(mylist)"
      ],
      "metadata": {
        "id": "p4lHuJBc48LT",
        "colab": {
          "base_uri": "https://localhost:8080/"
        },
        "outputId": "0bc2b8a2-8b13-492b-8906-33b2fdaa9730"
      },
      "id": "p4lHuJBc48LT",
      "execution_count": null,
      "outputs": [
        {
          "output_type": "stream",
          "name": "stdout",
          "text": [
            "['Dikshita', 'Siddhi', 'Krutika', 'Ekta']\n"
          ]
        }
      ]
    },
    {
      "cell_type": "markdown",
      "source": [
        "### 4.Remove List Items"
      ],
      "metadata": {
        "id": "vybrMbCY5Mp-"
      },
      "id": "vybrMbCY5Mp-"
    },
    {
      "cell_type": "code",
      "source": [
        "mylist.remove(\"Krutika\")\n",
        "print(mylist)"
      ],
      "metadata": {
        "id": "6PpNZgZa5N_P",
        "colab": {
          "base_uri": "https://localhost:8080/"
        },
        "outputId": "a89262eb-cae4-4f7e-d7ea-c669e116ce7e"
      },
      "id": "6PpNZgZa5N_P",
      "execution_count": null,
      "outputs": [
        {
          "output_type": "stream",
          "name": "stdout",
          "text": [
            "['Dikshita', 'Siddhi', 'Ekta']\n"
          ]
        }
      ]
    },
    {
      "cell_type": "markdown",
      "source": [
        ""
      ],
      "metadata": {
        "id": "maHa-C4Q5RES"
      },
      "id": "maHa-C4Q5RES"
    },
    {
      "cell_type": "markdown",
      "source": [
        "## Python Tuple"
      ],
      "metadata": {
        "id": "ewjY0ge95awM"
      },
      "id": "ewjY0ge95awM"
    },
    {
      "cell_type": "markdown",
      "source": [
        "\n",
        "### Creating tuple"
      ],
      "metadata": {
        "id": "ZTN82bX95gP7"
      },
      "id": "ZTN82bX95gP7"
    },
    {
      "cell_type": "code",
      "source": [
        "mytuple1 = (\"Hack\", \"Club\", \"SIGCE\") \n",
        "print(mytuple1)"
      ],
      "metadata": {
        "id": "Bltj1aRJ5-i0",
        "colab": {
          "base_uri": "https://localhost:8080/"
        },
        "outputId": "d512bd4d-3299-439f-d65f-b2ac8c8c2d33"
      },
      "id": "Bltj1aRJ5-i0",
      "execution_count": null,
      "outputs": [
        {
          "output_type": "stream",
          "name": "stdout",
          "text": [
            "('Hack', 'Club', 'SIGCE')\n"
          ]
        }
      ]
    },
    {
      "cell_type": "markdown",
      "source": [
        "### Access Tuple Items"
      ],
      "metadata": {
        "id": "lTwhYLeh6EF1"
      },
      "id": "lTwhYLeh6EF1"
    },
    {
      "cell_type": "code",
      "source": [
        "print(mytuple1[1])"
      ],
      "metadata": {
        "id": "5-XHzBQd6Ix9",
        "colab": {
          "base_uri": "https://localhost:8080/"
        },
        "outputId": "73f38183-885c-4d3f-92b3-4fb352a6f99a"
      },
      "id": "5-XHzBQd6Ix9",
      "execution_count": null,
      "outputs": [
        {
          "output_type": "stream",
          "name": "stdout",
          "text": [
            "Club\n"
          ]
        }
      ]
    },
    {
      "cell_type": "markdown",
      "source": [
        "### Negative Indexing"
      ],
      "metadata": {
        "id": "t_iN3m4B6Ltr"
      },
      "id": "t_iN3m4B6Ltr"
    },
    {
      "cell_type": "code",
      "source": [
        "myTuple.update()print(mytuple1[-3])"
      ],
      "metadata": {
        "id": "eJ3eqfar6v4w",
        "colab": {
          "base_uri": "https://localhost:8080/"
        },
        "outputId": "f51d8a7c-99a8-4193-d764-eb518b4b46f6"
      },
      "id": "eJ3eqfar6v4w",
      "execution_count": null,
      "outputs": [
        {
          "output_type": "stream",
          "name": "stdout",
          "text": [
            "Hack\n"
          ]
        }
      ]
    },
    {
      "cell_type": "markdown",
      "source": [
        "### Update Tuples"
      ],
      "metadata": {
        "id": "Nskej-wC6yTw"
      },
      "id": "Nskej-wC6yTw"
    },
    {
      "cell_type": "code",
      "source": [
        "y = list(mytuple1)\n",
        "y.append(\"2021\")\n",
        "mytuple1 = tuple(y)\n",
        "print(mytuple1)"
      ],
      "metadata": {
        "id": "KsiV5SMK60EK",
        "colab": {
          "base_uri": "https://localhost:8080/"
        },
        "outputId": "886d011b-c579-4519-c5de-5e2593aa9bdd"
      },
      "id": "KsiV5SMK60EK",
      "execution_count": null,
      "outputs": [
        {
          "output_type": "stream",
          "name": "stdout",
          "text": [
            "('Hack', 'Club', 'SIGCE', '2021', '2021')\n"
          ]
        }
      ]
    },
    {
      "cell_type": "markdown",
      "source": [
        "### Tuple Methods"
      ],
      "metadata": {
        "id": "RHYMscw562o5"
      },
      "id": "RHYMscw562o5"
    },
    {
      "cell_type": "markdown",
      "source": [
        "### count () method in tuple"
      ],
      "metadata": {
        "id": "y8zzE2Zr6-mr"
      },
      "id": "y8zzE2Zr6-mr"
    },
    {
      "cell_type": "code",
      "source": [
        "thistuple = (1, 3, 7, 8, 7, 5, 4, 6, 8, 5)\n",
        "x = thistuple.count(7)\n",
        "print(x)"
      ],
      "metadata": {
        "id": "gWVCpv2H66rq",
        "colab": {
          "base_uri": "https://localhost:8080/"
        },
        "outputId": "dcc862e2-0bff-4c01-8549-0db24c0b077e"
      },
      "id": "gWVCpv2H66rq",
      "execution_count": null,
      "outputs": [
        {
          "output_type": "stream",
          "name": "stdout",
          "text": [
            "2\n"
          ]
        }
      ]
    },
    {
      "cell_type": "markdown",
      "source": [
        "### Tuple index() Method"
      ],
      "metadata": {
        "id": "qd8t96MY7gYO"
      },
      "id": "qd8t96MY7gYO"
    },
    {
      "cell_type": "code",
      "source": [
        "x = thistuple.index(8)"
      ],
      "metadata": {
        "id": "Gg1scbL28L--"
      },
      "id": "Gg1scbL28L--",
      "execution_count": null,
      "outputs": []
    },
    {
      "cell_type": "code",
      "source": [
        "print(x)"
      ],
      "metadata": {
        "colab": {
          "base_uri": "https://localhost:8080/"
        },
        "id": "Ya-4Y6bbszDS",
        "outputId": "6e1dfd01-3484-4319-e2ec-5a328cd8354b"
      },
      "id": "Ya-4Y6bbszDS",
      "execution_count": null,
      "outputs": [
        {
          "output_type": "stream",
          "name": "stdout",
          "text": [
            "3\n"
          ]
        }
      ]
    },
    {
      "cell_type": "markdown",
      "source": [
        "## Dictionary"
      ],
      "metadata": {
        "id": "FRxFiu0N8ODi"
      },
      "id": "FRxFiu0N8ODi"
    },
    {
      "cell_type": "markdown",
      "source": [
        "### creating a dictionary"
      ],
      "metadata": {
        "id": "0zY8jM118U-C"
      },
      "id": "0zY8jM118U-C"
    },
    {
      "cell_type": "code",
      "source": [
        "thisdict = {\n",
        "  \"brand\": \"Ford\",\n",
        "  \"model\": \"Mustang\",\n",
        "  \"year\": 1964\n",
        "}\n",
        "print(thisdict)"
      ],
      "metadata": {
        "id": "Nn9PVtDN8RLw",
        "colab": {
          "base_uri": "https://localhost:8080/"
        },
        "outputId": "fa24de39-7314-484a-9792-3ca4df3c9ef3"
      },
      "id": "Nn9PVtDN8RLw",
      "execution_count": null,
      "outputs": [
        {
          "output_type": "stream",
          "name": "stdout",
          "text": [
            "{'brand': 'Ford', 'model': 'Mustang', 'year': 1964}\n"
          ]
        }
      ]
    },
    {
      "cell_type": "markdown",
      "source": [
        "### Access elements in a dictionary"
      ],
      "metadata": {
        "id": "K5ItpSsU8dB0"
      },
      "id": "K5ItpSsU8dB0"
    },
    {
      "cell_type": "code",
      "source": [
        "thisdict = {\n",
        "  \"brand\": \"Ford\",\n",
        "  \"model\": \"Mustang\",\n",
        "  \"year\": 1964\n",
        "}\n",
        "x = thisdict[\"year\"]\n",
        "print(x)"
      ],
      "metadata": {
        "id": "AsxB_Ciu8gi0",
        "colab": {
          "base_uri": "https://localhost:8080/"
        },
        "outputId": "fabfc16d-8062-457d-a055-007749957fd3"
      },
      "id": "AsxB_Ciu8gi0",
      "execution_count": null,
      "outputs": [
        {
          "output_type": "stream",
          "name": "stdout",
          "text": [
            "1964\n"
          ]
        }
      ]
    },
    {
      "cell_type": "markdown",
      "source": [
        "### Update Dictionary Items"
      ],
      "metadata": {
        "id": "WkAsJvbz8kYu"
      },
      "id": "WkAsJvbz8kYu"
    },
    {
      "cell_type": "code",
      "source": [
        "thisdict = {\n",
        "  \"brand\": \"Ford\",\n",
        "  \"model\": \"Mustang\",\n",
        "  \"year\": 1964\n",
        "}\n",
        "thisdict.update({\"year\": 2020})\n",
        "print(thisdict)"
      ],
      "metadata": {
        "id": "igB8bJCq8nFe",
        "colab": {
          "base_uri": "https://localhost:8080/"
        },
        "outputId": "0458798e-e8c7-4b67-aa73-d958953f93d3"
      },
      "id": "igB8bJCq8nFe",
      "execution_count": null,
      "outputs": [
        {
          "output_type": "stream",
          "name": "stdout",
          "text": [
            "{'brand': 'Ford', 'model': 'Mustang', 'year': 2020}\n"
          ]
        }
      ]
    },
    {
      "cell_type": "markdown",
      "source": [
        "### Add items in a dictionary"
      ],
      "metadata": {
        "id": "VUqwi4Mt8pm1"
      },
      "id": "VUqwi4Mt8pm1"
    },
    {
      "cell_type": "code",
      "source": [
        "thisdict = {\n",
        "  \"brand\": \"Ford\",\n",
        "  \"model\": \"Mustang\",\n",
        "  \"year\": 1964\n",
        "}\n",
        "thisdict[\"color\"] = \"red\"\n",
        "print(thisdict) "
      ],
      "metadata": {
        "id": "P3FQyBqA8tVA",
        "colab": {
          "base_uri": "https://localhost:8080/"
        },
        "outputId": "7561ffed-1dfe-46dd-e6d4-b5d4195be43a"
      },
      "id": "P3FQyBqA8tVA",
      "execution_count": null,
      "outputs": [
        {
          "output_type": "stream",
          "name": "stdout",
          "text": [
            "{'brand': 'Ford', 'model': 'Mustang', 'year': 1964, 'color': 'red'}\n"
          ]
        }
      ]
    },
    {
      "cell_type": "markdown",
      "source": [
        "### Remove Dictionary Items"
      ],
      "metadata": {
        "id": "bAPNux0Z8v8_"
      },
      "id": "bAPNux0Z8v8_"
    },
    {
      "cell_type": "code",
      "source": [
        "thisdict = {\n",
        "  \"brand\": \"Ford\",\n",
        "  \"model\": \"Mustang\",\n",
        "  \"year\": 1964\n",
        "}\n",
        "thisdict.pop(\"model\")\n",
        "print(thisdict)"
      ],
      "metadata": {
        "id": "CBQu2UwT8yYh",
        "colab": {
          "base_uri": "https://localhost:8080/"
        },
        "outputId": "e6701553-e675-42b6-b5bb-9319ca182afd"
      },
      "id": "CBQu2UwT8yYh",
      "execution_count": null,
      "outputs": [
        {
          "output_type": "stream",
          "name": "stdout",
          "text": [
            "{'brand': 'Ford', 'year': 1964}\n"
          ]
        }
      ]
    },
    {
      "cell_type": "markdown",
      "source": [
        "## Sets in python"
      ],
      "metadata": {
        "id": "R5PhfUMJ80_h"
      },
      "id": "R5PhfUMJ80_h"
    },
    {
      "cell_type": "markdown",
      "source": [
        "### creating a set"
      ],
      "metadata": {
        "id": "ld_Rgh4Y84YL"
      },
      "id": "ld_Rgh4Y84YL"
    },
    {
      "cell_type": "code",
      "source": [
        "myset = {\"apple\", \"banana\", \"cherry\"}\n",
        "print(myset)"
      ],
      "metadata": {
        "id": "PRwDB9_T8_GF",
        "colab": {
          "base_uri": "https://localhost:8080/"
        },
        "outputId": "e43a0e6e-0656-41c1-9c7b-59fc9fab16e9"
      },
      "id": "PRwDB9_T8_GF",
      "execution_count": null,
      "outputs": [
        {
          "output_type": "stream",
          "name": "stdout",
          "text": [
            "{'cherry', 'apple', 'banana'}\n"
          ]
        }
      ]
    },
    {
      "cell_type": "markdown",
      "source": [
        "### add items in a set"
      ],
      "metadata": {
        "id": "D6PLYUtZ9B7x"
      },
      "id": "D6PLYUtZ9B7x"
    },
    {
      "cell_type": "code",
      "source": [
        "thisset = {\"apple\", \"banana\", \"cherry\"}\n",
        "\n",
        "thisset.add(\"orange\")\n",
        "\n",
        "print(thisset)"
      ],
      "metadata": {
        "id": "pp9kjvLM9FVf",
        "colab": {
          "base_uri": "https://localhost:8080/"
        },
        "outputId": "df609308-620d-4b12-c341-8e27276ec98f"
      },
      "id": "pp9kjvLM9FVf",
      "execution_count": null,
      "outputs": [
        {
          "output_type": "stream",
          "name": "stdout",
          "text": [
            "{'cherry', 'orange', 'apple', 'banana'}\n"
          ]
        }
      ]
    },
    {
      "cell_type": "markdown",
      "source": [
        "### remove set elements"
      ],
      "metadata": {
        "id": "2eEK4KHW9Hq2"
      },
      "id": "2eEK4KHW9Hq2"
    },
    {
      "cell_type": "code",
      "source": [
        "thisset = {\"apple\", \"banana\", \"cherry\"}\n",
        "\n",
        "thisset.remove(\"banana\")\n",
        "\n",
        "print(thisset)"
      ],
      "metadata": {
        "id": "pjXbdpUs9KXP",
        "colab": {
          "base_uri": "https://localhost:8080/"
        },
        "outputId": "30a0fec5-cb70-408a-dff1-2a23037e2f7c"
      },
      "id": "pjXbdpUs9KXP",
      "execution_count": null,
      "outputs": [
        {
          "output_type": "stream",
          "name": "stdout",
          "text": [
            "{'cherry', 'apple'}\n"
          ]
        }
      ]
    },
    {
      "cell_type": "markdown",
      "source": [
        ""
      ],
      "metadata": {
        "id": "Ea9TxMpA-RDK"
      },
      "id": "Ea9TxMpA-RDK"
    }
  ],
  "metadata": {
    "kernelspec": {
      "display_name": "Python 3",
      "language": "python",
      "name": "python3"
    },
    "language_info": {
      "codemirror_mode": {
        "name": "ipython",
        "version": 3
      },
      "file_extension": ".py",
      "mimetype": "text/x-python",
      "name": "python",
      "nbconvert_exporter": "python",
      "pygments_lexer": "ipython3",
      "version": "3.8.8"
    },
    "colab": {
      "name": "HackClubSIGCE ML workshop Day1.ipynb",
      "provenance": [],
      "collapsed_sections": [
        "793df3fd",
        "08181409",
        "e5566a9a",
        "1f9bf8f0",
        "cea0e779",
        "d6d2149a",
        "e391331e",
        "4CEOEnE3yJzu",
        "ewjY0ge95awM",
        "FRxFiu0N8ODi",
        "R5PhfUMJ80_h"
      ]
    }
  },
  "nbformat": 4,
  "nbformat_minor": 5
}